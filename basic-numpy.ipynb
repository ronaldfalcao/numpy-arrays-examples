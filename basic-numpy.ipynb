{
 "cells": [
  {
   "cell_type": "markdown",
   "metadata": {},
   "source": [
    "# Elementos Básicos do Numpy"
   ]
  },
  {
   "cell_type": "markdown",
   "metadata": {},
   "source": [
    "## O que é Numpy?"
   ]
  },
  {
   "cell_type": "markdown",
   "metadata": {},
   "source": [
    "O Numpy é uma das mais populares bibliotecas para Python, sendo considerada a base da computação numérica da linguagem. Ela é largamente utilizada por cientistas de dados na resolução dos seus problemas matemáticos e científicos, sendo muito diversa no trabalho com arrays e matrizes multidimensionais. \n",
    "\n",
    "Sua utilização vai de cálculos numéricos à Computação Gráfica, Modelos de Machine Learling, Processamento de Imagens, entre outros. Ou seja, uma biblioteca de ampla utilização que resolve problemas de diversas áreas de negócios.\n",
    "\n",
    "Você pode ler mais sobre a biblioteca e como instalá-la em seu sistema operacional acessando o site oficial [Numpy.Org](http://www.numpy.org/ \"Numpy.org\")."
   ]
  },
  {
   "cell_type": "markdown",
   "metadata": {},
   "source": [
    "## Arrays no Numpy"
   ]
  },
  {
   "cell_type": "markdown",
   "metadata": {},
   "source": [
    "Um array (ou um arranjo) nada mais é do que uma estrutura de dados formada por uma coleção de elementos. Cada elemento dessa coleção pode ser identificado por uma tupla de números inteiros positivos, também conhecidos por índice ou chave.\n",
    "\n",
    "Por convenção um array m,n tem m linhas e n colunas. Por exemplo, o vetor V = [1, 2, 3] é um array 1x3 possuindo 1 linha e 3 colunas. Enquanto a matriz M = ([1, 2, 3], [4, 5, 6], [7, 8, 9]) é 3x3. Em V o elemento 2 é representado por v(1,2), pois se encontra na primeira linha (única) e na coluna 2. Já em M temos o elemento de índice m(2,3) = 6, pois se encontra na linha 2 e na coluna 3.\n",
    "\n",
    "Também por convenção o Numpy usa ao invés de linhas e colunas a denominação eixos. No exemplo da matriz M temos dois eixos, o primeiro eixo (linhas) tem comprimento 3, e o segundo eixo (colunas) tem comprimento 3. O exemplodo vetor V tem eixos de comprimento 1 e três, respectivamente.\n",
    "\n",
    "Podemos chamar os arrays unidimensionais de vetores e os arrays multidimensionais de matrizes."
   ]
  },
  {
   "cell_type": "markdown",
   "metadata": {},
   "source": [
    "## Carregando a biblioteca Numpy"
   ]
  },
  {
   "cell_type": "code",
   "execution_count": 1,
   "metadata": {},
   "outputs": [],
   "source": [
    "# Carregando a biblioteca Numpy\n",
    "import numpy as np"
   ]
  },
  {
   "cell_type": "markdown",
   "metadata": {},
   "source": [
    "## Arrays Unidimensionais no Numpy"
   ]
  },
  {
   "cell_type": "markdown",
   "metadata": {},
   "source": [
    "### Criando arrays"
   ]
  },
  {
   "cell_type": "code",
   "execution_count": 3,
   "metadata": {},
   "outputs": [
    {
     "name": "stdout",
     "output_type": "stream",
     "text": [
      "[0 2 4 6 8]\n",
      "[1 3 5 7 9]\n"
     ]
    }
   ],
   "source": [
    "# Criando nossos arrays de exemplo\n",
    "array_impar = np.array([1,3,5,7,9])\n",
    "array_par = np.array([0,2,4,6,8])\n",
    "\n",
    "print(array_par)\n",
    "print(array_impar)"
   ]
  },
  {
   "cell_type": "markdown",
   "metadata": {},
   "source": [
    "### Retornando a dimensão de um array"
   ]
  },
  {
   "cell_type": "code",
   "execution_count": 6,
   "metadata": {},
   "outputs": [
    {
     "name": "stdout",
     "output_type": "stream",
     "text": [
      "Número de elementos do array: (5,)\n",
      "Número de elementos do array: (5,)\n"
     ]
    }
   ],
   "source": [
    "# Retornando (tupla) a dimensão de um array\n",
    "print(\"Número de elementos do array:\", array_impar.shape)\n",
    "print(\"Número de elementos do array:\", array_par.shape)"
   ]
  },
  {
   "cell_type": "markdown",
   "metadata": {},
   "source": [
    "### Retornando o número de elementos de um array"
   ]
  },
  {
   "cell_type": "code",
   "execution_count": 5,
   "metadata": {},
   "outputs": [
    {
     "name": "stdout",
     "output_type": "stream",
     "text": [
      "Número de elementos do array:  5\n"
     ]
    }
   ],
   "source": [
    "# Verificando a quantidade de elementos do nosso array\n",
    "print(\"Número de elementos do array: \", array_impar.size)"
   ]
  },
  {
   "cell_type": "markdown",
   "metadata": {},
   "source": [
    "### Acessando elementos de um array"
   ]
  },
  {
   "cell_type": "code",
   "execution_count": 12,
   "metadata": {},
   "outputs": [
    {
     "name": "stdout",
     "output_type": "stream",
     "text": [
      "Elemento 0 do array array_impar. 1\n",
      "Elemento 1 do array array_par. 2\n"
     ]
    }
   ],
   "source": [
    "# Acessando elementos de um array\n",
    "print(\"Elemento 0 do array array_impar.\", array_impar[0])\n",
    "print(\"Elemento 1 do array array_par.\", array_par[1])"
   ]
  },
  {
   "cell_type": "markdown",
   "metadata": {},
   "source": [
    "### Criando arrays auto-preenchidos"
   ]
  },
  {
   "cell_type": "markdown",
   "metadata": {},
   "source": [
    "#### Preenchendo arrays com zeros (0)"
   ]
  },
  {
   "cell_type": "code",
   "execution_count": 19,
   "metadata": {},
   "outputs": [
    {
     "name": "stdout",
     "output_type": "stream",
     "text": [
      "array_5_zeros:  [0. 0. 0. 0. 0.]\n",
      "array_10_zeros:  [0. 0. 0. 0. 0. 0. 0. 0. 0. 0.]\n",
      "array_15_zeros:  [0. 0. 0. 0. 0. 0. 0. 0. 0. 0. 0. 0. 0. 0. 0.]\n"
     ]
    }
   ],
   "source": [
    "# Criando preenchidos com zeros...\n",
    "array_5_zeros = np.zeros(5)\n",
    "array_10_zeros = np.zeros(10)\n",
    "array_15_zeros = np.zeros(15)\n",
    "\n",
    "print(\"array_5_zeros: \", array_5_zeros)\n",
    "print(\"array_10_zeros: \", array_10_zeros)\n",
    "print(\"array_15_zeros: \", array_15_zeros)\n"
   ]
  },
  {
   "cell_type": "markdown",
   "metadata": {},
   "source": [
    "#### Criando arrays auto-preenchidos com uns (1)"
   ]
  },
  {
   "cell_type": "code",
   "execution_count": 18,
   "metadata": {},
   "outputs": [
    {
     "name": "stdout",
     "output_type": "stream",
     "text": [
      "array_5_uns:  [1. 1. 1. 1. 1.]\n",
      "array_10_uns:  [1. 1. 1. 1. 1. 1. 1. 1. 1. 1.]\n",
      "array_15_uns:  [1. 1. 1. 1. 1. 1. 1. 1. 1. 1. 1. 1. 1. 1. 1.]\n"
     ]
    }
   ],
   "source": [
    "# Criando preenchidos com uns...\n",
    "array_5_uns = np.ones(5)\n",
    "array_10_uns = np.ones(10)\n",
    "array_15_uns = np.ones(15)\n",
    "\n",
    "print(\"array_5_uns: \", array_5_uns)\n",
    "print(\"array_10_uns: \", array_10_uns)\n",
    "print(\"array_15_uns: \", array_15_uns)"
   ]
  },
  {
   "cell_type": "markdown",
   "metadata": {},
   "source": [
    "#### Criando arrays auto-preenchidos com números aleatórios (Reais)"
   ]
  },
  {
   "cell_type": "code",
   "execution_count": 37,
   "metadata": {},
   "outputs": [
    {
     "name": "stdout",
     "output_type": "stream",
     "text": [
      "array_5_aleatorio:  [0.04383659 0.55018935 0.27790939 0.86492934 0.00780862]\n",
      "array_10_aleatorio:  [0.22040245 0.25157016 0.38106496 0.97493529 0.82779851 0.81715135\n",
      " 0.34974744 0.62804393 0.40173468 0.98902041]\n",
      "array_15_aleatorio:  [0.75063651 0.23479349 0.5785971  0.24841703 0.70312416 0.0220524\n",
      " 0.56832778 0.8531876  0.48038852 0.77221833 0.57506871 0.01532486\n",
      " 0.61338205 0.63229481 0.90699573]\n"
     ]
    }
   ],
   "source": [
    "array_5_aleatorio = np.random.random((5))\n",
    "array_10_aleatorio = np.random.random((10))\n",
    "array_15_aleatorio = np.random.random((15))\n",
    "\n",
    "print(\"array_5_aleatorio: \", array_5_aleatorio)\n",
    "print(\"array_10_aleatorio: \", array_10_aleatorio)\n",
    "print(\"array_15_aleatorio: \", array_15_aleatorio)"
   ]
  },
  {
   "cell_type": "markdown",
   "metadata": {},
   "source": [
    "##### Usando o método random.rand() com distribuição uniforme"
   ]
  },
  {
   "cell_type": "code",
   "execution_count": 42,
   "metadata": {},
   "outputs": [
    {
     "name": "stdout",
     "output_type": "stream",
     "text": [
      "Normal:\n",
      " [0.86588684 0.52543001 0.05659157 0.17447606 0.43767901 0.06844006\n",
      " 0.12191093 0.76620454 0.88781012 0.03444006]\n"
     ]
    }
   ],
   "source": [
    "print(\"Normal:\\n\", np.random.rand(10))"
   ]
  },
  {
   "cell_type": "markdown",
   "metadata": {},
   "source": [
    "##### Usando o método random.rand() com distribuição Gaussiana"
   ]
  },
  {
   "cell_type": "code",
   "execution_count": 43,
   "metadata": {},
   "outputs": [
    {
     "name": "stdout",
     "output_type": "stream",
     "text": [
      "Gaussiana:  [ 0.34869201  0.01807025 -0.56115845  0.12385998 -1.18600258  1.16880498\n",
      "  1.05310118  0.20519373 -0.36817995 -0.06760502]\n"
     ]
    }
   ],
   "source": [
    "print(\"Gaussiana: \", np.random.randn(10))"
   ]
  },
  {
   "cell_type": "markdown",
   "metadata": {},
   "source": [
    "#### Criando arrays auto-preenchidos com números aleatórios (Inteiros)"
   ]
  },
  {
   "cell_type": "code",
   "execution_count": 29,
   "metadata": {},
   "outputs": [
    {
     "name": "stdout",
     "output_type": "stream",
     "text": [
      "array_5_aleatorio:  [ 4  6 10  1  0  6  8  6  1  8]\n"
     ]
    }
   ],
   "source": [
    "# Array de números aleatórios de 0 à 10.\n",
    "array_5_aleatorio_inteiro = np.random.randint(11, size=10)\n",
    "print(\"array_5_aleatorio: \", array_5_aleatorio_inteiro)"
   ]
  },
  {
   "cell_type": "markdown",
   "metadata": {},
   "source": [
    "##### Outra forma de criar um array de números aleatórios com inteiros com o método np.random.random()"
   ]
  },
  {
   "cell_type": "code",
   "execution_count": 30,
   "metadata": {},
   "outputs": [
    {
     "name": "stdout",
     "output_type": "stream",
     "text": [
      "array_10_aleatorio: [[4. 1. 9. 0. 5. 4. 3. 4. 0. 9.]]\n"
     ]
    }
   ],
   "source": [
    "array_10_aleatorio = np.floor(10*np.random.random((1,10))) \n",
    "print(\"array_10_aleatorio:\", array_10_aleatorio) "
   ]
  },
  {
   "cell_type": "code",
   "execution_count": 35,
   "metadata": {},
   "outputs": [
    {
     "name": "stdout",
     "output_type": "stream",
     "text": [
      "array_10_aleatorio: [[29. 49. 26. 13. 46. 95. 64. 26. 23. 57. 38. 91. 49. 43. 86. 24. 19. 36.\n",
      "  87. 97.]\n",
      " [55. 68. 90.  6. 62.  7. 51. 99. 14. 59. 55. 51. 44. 50. 13. 73. 53. 62.\n",
      "  46. 70.]]\n"
     ]
    }
   ],
   "source": [
    "array_10_aleatorio = np.floor(100*np.random.random((2,20))) \n",
    "print(\"array_10_aleatorio:\", array_10_aleatorio)"
   ]
  },
  {
   "cell_type": "markdown",
   "metadata": {},
   "source": [
    "#### Criando arrays auto-preenchidos com a função Arrange()"
   ]
  },
  {
   "cell_type": "code",
   "execution_count": 9,
   "metadata": {},
   "outputs": [
    {
     "name": "stdout",
     "output_type": "stream",
     "text": [
      "Array de Números (0-10): [0 1 2 3 4 5 6 7 8 9]\n",
      "Array de Números (0-100): [ 0  1  2  3  4  5  6  7  8  9 10 11 12 13 14 15 16 17 18 19 20 21 22 23\n",
      " 24 25 26 27 28 29 30 31 32 33 34 35 36 37 38 39 40 41 42 43 44 45 46 47\n",
      " 48 49 50 51 52 53 54 55 56 57 58 59 60 61 62 63 64 65 66 67 68 69 70 71\n",
      " 72 73 74 75 76 77 78 79 80 81 82 83 84 85 86 87 88 89 90 91 92 93 94 95\n",
      " 96 97 98 99]\n"
     ]
    }
   ],
   "source": [
    "# Criando um array com elementos sequenciais\n",
    "print(\"Array de Números (0-10):\", np.arange(10))\n",
    "print(\"Array de Números (0-100):\", np.arange(100))\n"
   ]
  },
  {
   "cell_type": "code",
   "execution_count": 12,
   "metadata": {},
   "outputs": [
    {
     "name": "stdout",
     "output_type": "stream",
     "text": [
      "Array de Números (50-100): [ 50  51  52  53  54  55  56  57  58  59  60  61  62  63  64  65  66  67\n",
      "  68  69  70  71  72  73  74  75  76  77  78  79  80  81  82  83  84  85\n",
      "  86  87  88  89  90  91  92  93  94  95  96  97  98  99 100]\n",
      "Array de Números (25-50): [25 26 27 28 29 30 31 32 33 34 35 36 37 38 39 40 41 42 43 44 45 46 47 48\n",
      " 49 50]\n"
     ]
    }
   ],
   "source": [
    "# Criando um array com elementos sequenciais definindo início e fim\n",
    "print(\"Array de Números (50-100):\", np.arange(50,101))\n",
    "print(\"Array de Números (25-50):\", np.arange(25,51))"
   ]
  },
  {
   "cell_type": "code",
   "execution_count": 15,
   "metadata": {},
   "outputs": [
    {
     "name": "stdout",
     "output_type": "stream",
     "text": [
      "Array de Números pares (0-100): [  0   2   4   6   8  10  12  14  16  18  20  22  24  26  28  30  32  34\n",
      "  36  38  40  42  44  46  48  50  52  54  56  58  60  62  64  66  68  70\n",
      "  72  74  76  78  80  82  84  86  88  90  92  94  96  98 100]\n",
      "Array de Números ímpares (1-99): [ 1  3  5  7  9 11 13 15 17 19 21 23 25 27 29 31 33 35 37 39 41 43 45 47\n",
      " 49 51 53 55 57 59 61 63 65 67 69 71 73 75 77 79 81 83 85 87 89 91 93 95\n",
      " 97 99]\n"
     ]
    }
   ],
   "source": [
    "# Criando um array com elementos sequenciais definindo início e fim e passos\n",
    "print(\"Array de Números pares (0-100):\", np.arange(0,101,2))\n",
    "print(\"Array de Números ímpares (1-99):\", np.arange(1,100,2))"
   ]
  },
  {
   "cell_type": "markdown",
   "metadata": {},
   "source": [
    "#### Criando arrays com a função linspace()\n",
    "Cria um array espaçado de maneira uniforme entre o limite informado (início e fim)"
   ]
  },
  {
   "cell_type": "code",
   "execution_count": 25,
   "metadata": {},
   "outputs": [
    {
     "name": "stdout",
     "output_type": "stream",
     "text": [
      "array: [0.         0.01010101 0.02020202 0.03030303 0.04040404 0.05050505\n",
      " 0.06060606 0.07070707 0.08080808 0.09090909 0.1010101  0.11111111\n",
      " 0.12121212 0.13131313 0.14141414 0.15151515 0.16161616 0.17171717\n",
      " 0.18181818 0.19191919 0.2020202  0.21212121 0.22222222 0.23232323\n",
      " 0.24242424 0.25252525 0.26262626 0.27272727 0.28282828 0.29292929\n",
      " 0.3030303  0.31313131 0.32323232 0.33333333 0.34343434 0.35353535\n",
      " 0.36363636 0.37373737 0.38383838 0.39393939 0.4040404  0.41414141\n",
      " 0.42424242 0.43434343 0.44444444 0.45454545 0.46464646 0.47474747\n",
      " 0.48484848 0.49494949 0.50505051 0.51515152 0.52525253 0.53535354\n",
      " 0.54545455 0.55555556 0.56565657 0.57575758 0.58585859 0.5959596\n",
      " 0.60606061 0.61616162 0.62626263 0.63636364 0.64646465 0.65656566\n",
      " 0.66666667 0.67676768 0.68686869 0.6969697  0.70707071 0.71717172\n",
      " 0.72727273 0.73737374 0.74747475 0.75757576 0.76767677 0.77777778\n",
      " 0.78787879 0.7979798  0.80808081 0.81818182 0.82828283 0.83838384\n",
      " 0.84848485 0.85858586 0.86868687 0.87878788 0.88888889 0.8989899\n",
      " 0.90909091 0.91919192 0.92929293 0.93939394 0.94949495 0.95959596\n",
      " 0.96969697 0.97979798 0.98989899 1.        ]\n",
      "array: [0.   0.02 0.04 0.06 0.08 0.1  0.12 0.14 0.16 0.18 0.2  0.22 0.24 0.26\n",
      " 0.28 0.3  0.32 0.34 0.36 0.38 0.4  0.42 0.44 0.46 0.48 0.5  0.52 0.54\n",
      " 0.56 0.58 0.6  0.62 0.64 0.66 0.68 0.7  0.72 0.74 0.76 0.78 0.8  0.82\n",
      " 0.84 0.86 0.88 0.9  0.92 0.94 0.96 0.98]\n"
     ]
    }
   ],
   "source": [
    "print(\"array:\", np.linspace(0, 1, 100))\n",
    "print(\"array:\", np.linspace(0, 1, 50, endpoint=False)) # Melhorando a questão do ponto flutuante"
   ]
  },
  {
   "cell_type": "markdown",
   "metadata": {},
   "source": [
    "#### Criando uma Matriz Identidade (Identity Matrix)\n",
    "Uma matriz identidade tem ordem n, ou seja, tem n linhas e n colunas"
   ]
  },
  {
   "cell_type": "code",
   "execution_count": 29,
   "metadata": {},
   "outputs": [
    {
     "name": "stdout",
     "output_type": "stream",
     "text": [
      "Matriz identidade ordem 3:\n",
      " [[1. 0. 0.]\n",
      " [0. 1. 0.]\n",
      " [0. 0. 1.]]\n",
      "Matriz identidade ordem 2:\n",
      " [[1. 0.]\n",
      " [0. 1.]]\n",
      "Matriz identidade ordem 5:\n",
      " [[1. 0. 0. 0. 0.]\n",
      " [0. 1. 0. 0. 0.]\n",
      " [0. 0. 1. 0. 0.]\n",
      " [0. 0. 0. 1. 0.]\n",
      " [0. 0. 0. 0. 1.]]\n"
     ]
    }
   ],
   "source": [
    "print(\"Matriz identidade ordem 3:\\n\", np.eye(3))\n",
    "print(\"Matriz identidade ordem 2:\\n\", np.eye(2))\n",
    "print(\"Matriz identidade ordem 5:\\n\", np.eye(5))"
   ]
  },
  {
   "cell_type": "markdown",
   "metadata": {},
   "source": [
    "#### Criando uma matriz com uma diagonal definida"
   ]
  },
  {
   "cell_type": "code",
   "execution_count": 33,
   "metadata": {},
   "outputs": [
    {
     "name": "stdout",
     "output_type": "stream",
     "text": [
      "matriz:\n",
      " [[1 0 0 0]\n",
      " [0 2 0 0]\n",
      " [0 0 3 0]\n",
      " [0 0 0 4]]\n",
      "matriz:\n",
      " [[ 0  0  0  0  0  0]\n",
      " [ 0  2  0  0  0  0]\n",
      " [ 0  0  4  0  0  0]\n",
      " [ 0  0  0  6  0  0]\n",
      " [ 0  0  0  0  8  0]\n",
      " [ 0  0  0  0  0 10]]\n"
     ]
    }
   ],
   "source": [
    "print(\"matriz:\\n\", np.diag(np.array([1, 2, 3, 4])))\n",
    "print(\"matriz:\\n\", np.diag(np.array([0, 2, 4, 6, 8, 10])))"
   ]
  },
  {
   "cell_type": "markdown",
   "metadata": {},
   "source": [
    "### Definindo tipos de dados em arrays"
   ]
  },
  {
   "cell_type": "markdown",
   "metadata": {},
   "source": [
    "#### Float"
   ]
  },
  {
   "cell_type": "code",
   "execution_count": 58,
   "metadata": {},
   "outputs": [
    {
     "name": "stdout",
     "output_type": "stream",
     "text": [
      "Array com elementos Float:\n",
      " [1. 2. 3.]\n",
      "Tipo da Matriz matriz_float:\n",
      " float64\n"
     ]
    }
   ],
   "source": [
    "matriz_float = np.array([1, 2, 3], dtype=float)\n",
    "print(\"Array com elementos Float:\\n\", matriz_float)\n",
    "print(\"Tipo da Matriz matriz_float:\\n\", matriz_float.dtype)"
   ]
  },
  {
   "cell_type": "markdown",
   "metadata": {},
   "source": [
    "#### Integer"
   ]
  },
  {
   "cell_type": "code",
   "execution_count": 57,
   "metadata": {},
   "outputs": [
    {
     "name": "stdout",
     "output_type": "stream",
     "text": [
      "Array com elementos Inteiros:\n",
      " [1 2 3]\n",
      "Tipo da Matriz matriz_integer:\n",
      " int64\n"
     ]
    }
   ],
   "source": [
    "matriz_integer = np.array([1, 2, 3]) # default\n",
    "print(\"Array com elementos Inteiros:\\n\", matriz_integer)\n",
    "print(\"Tipo da Matriz matriz_integer:\\n\", matriz_integer.dtype)"
   ]
  },
  {
   "cell_type": "markdown",
   "metadata": {},
   "source": [
    "#### Boolean"
   ]
  },
  {
   "cell_type": "code",
   "execution_count": 60,
   "metadata": {},
   "outputs": [
    {
     "name": "stdout",
     "output_type": "stream",
     "text": [
      "Array com elementos booleanos:\n",
      " [False False  True  True False  True False  True]\n",
      "Tipo da Matriz matriz_bool:\n",
      " bool\n"
     ]
    }
   ],
   "source": [
    "matriz_bool = np.array([False, False, True, True, False, True, False, True])\n",
    "print(\"Array com elementos booleanos:\\n\", matriz_bool)\n",
    "print(\"Tipo da Matriz matriz_bool:\\n\", matriz_bool.dtype)"
   ]
  },
  {
   "cell_type": "markdown",
   "metadata": {},
   "source": [
    "#### String"
   ]
  },
  {
   "cell_type": "code",
   "execution_count": 61,
   "metadata": {},
   "outputs": [
    {
     "name": "stdout",
     "output_type": "stream",
     "text": [
      "Array com elementos literais (string):\n",
      " ['matriz' 'matrix' 'matrix' 'qalib' 'matriz' 'matrice' 'matritsa']\n",
      "Tipo da Matriz matriz_string:\n",
      " <U8\n"
     ]
    }
   ],
   "source": [
    "# Strings com a tradução de Matriz, respectivamente: português, inglês, alemão, árabe, espanhol, francês e russo.\n",
    "matriz_string = np.array(['matriz', 'matrix', 'matrix', 'qalib', 'matriz', 'matrice', 'matritsa'])\n",
    "print(\"Array com elementos literais (string):\\n\", matriz_string)\n",
    "print(\"Tipo da Matriz matriz_string:\\n\", matriz_string.dtype)"
   ]
  },
  {
   "cell_type": "markdown",
   "metadata": {},
   "source": [
    "#### Complexos"
   ]
  },
  {
   "cell_type": "code",
   "execution_count": 63,
   "metadata": {},
   "outputs": [
    {
     "name": "stdout",
     "output_type": "stream",
     "text": [
      "Array com elementos complexos:\n",
      " [0. +3.j 1. +5.j 3. +4.j 4.+18.j]\n",
      "Tipo da Matriz matriz_complexo:\n",
      " complex128\n"
     ]
    }
   ],
   "source": [
    "# Sim! Numpy trabalha com números complexos e isso é muito legal :-)\n",
    "matriz_complexo = np.array([0+3j, 1+5j , 3+4j, 4+18j])\n",
    "print(\"Array com elementos complexos:\\n\", matriz_complexo)\n",
    "print(\"Tipo da Matriz matriz_complexo:\\n\", matriz_complexo.dtype)"
   ]
  },
  {
   "cell_type": "markdown",
   "metadata": {},
   "source": [
    "### Fatiando Arrays"
   ]
  },
  {
   "cell_type": "code",
   "execution_count": 53,
   "metadata": {},
   "outputs": [
    {
     "data": {
      "text/plain": [
       "13"
      ]
     },
     "execution_count": 53,
     "metadata": {},
     "output_type": "execute_result"
    }
   ],
   "source": [
    "# Retornando um elemento isolado do array\n",
    "vetor = np.array([1, 1, 2, 3, 5, 8, 13, 21, 34, 55, 89, 144, 233, 377, 610, 987, 1597, 2584])\n",
    "vetor[6]"
   ]
  },
  {
   "cell_type": "code",
   "execution_count": 21,
   "metadata": {},
   "outputs": [
    {
     "name": "stdout",
     "output_type": "stream",
     "text": [
      "Array de elementos a partir do primeiro elemento: [   1    1    2    3    5    8   13   21   34   55   89  144  233  377\n",
      "  610  987 1597 2584]\n",
      "Array de elementos a partir do 2º elemento: [   1    2    3    5    8   13   21   34   55   89  144  233  377  610\n",
      "  987 1597 2584]\n",
      "Array de elementos a partir do 10º elemento: [  89  144  233  377  610  987 1597 2584]\n"
     ]
    }
   ],
   "source": [
    "# Retornando um array de elementos a partir de um índice específico\n",
    "# Vale lembrar que os elementos de um array são contados a partir do índice zero(0)\n",
    "print(\"Array de elementos a partir do primeiro elemento:\",vetor[0:])\n",
    "print(\"Array de elementos a partir do 2º elemento:\",vetor[1:])\n",
    "print(\"Array de elementos a partir do 10º elemento:\",vetor[10:])"
   ]
  },
  {
   "cell_type": "code",
   "execution_count": 22,
   "metadata": {},
   "outputs": [
    {
     "name": "stdout",
     "output_type": "stream",
     "text": [
      "Array de elementos a partir do último elemento: [2584]\n",
      "Array de elementos a partir do último até o 10º elemento: [  34   55   89  144  233  377  610  987 1597 2584]\n"
     ]
    }
   ],
   "source": [
    "# Retornando um array de elementos a partir do último elemento do array \n",
    "print(\"Array de elementos a partir do último elemento:\",vetor[-1:])\n",
    "print(\"Array de elementos a partir do último até o 10º elemento:\",vetor[-10:])"
   ]
  },
  {
   "cell_type": "code",
   "execution_count": 17,
   "metadata": {},
   "outputs": [
    {
     "name": "stdout",
     "output_type": "stream",
     "text": [
      "Array de elementos a partir do primeiro elemento: [3 5 8]\n"
     ]
    }
   ],
   "source": [
    "# Retornando um array fatiado a partir de um índice inicial e outro final\n",
    "print(\"Array de elementos a partir do primeiro elemento:\",vetor[3:6])"
   ]
  },
  {
   "cell_type": "code",
   "execution_count": 23,
   "metadata": {},
   "outputs": [
    {
     "name": "stdout",
     "output_type": "stream",
     "text": [
      "Array de elementos a partir do último elemento até o 6º elemento: [  13   21   34   55   89  144  233  377  610  987 1597 2584]\n"
     ]
    }
   ],
   "source": [
    "# Retornando um elemento a partir do último elemento (outra forma)\n",
    "print(\"Array de elementos a partir do último elemento até o 6º elemento:\",vetor[6:])"
   ]
  },
  {
   "cell_type": "markdown",
   "metadata": {},
   "source": [
    "## Arrays Multidimensionais ou Matrizes"
   ]
  },
  {
   "cell_type": "markdown",
   "metadata": {},
   "source": [
    "### Criando arrays multidimensionais"
   ]
  },
  {
   "cell_type": "code",
   "execution_count": 40,
   "metadata": {},
   "outputs": [
    {
     "data": {
      "text/plain": [
       "array([[1, 2, 3],\n",
       "       [4, 5, 6],\n",
       "       [7, 8, 9]])"
      ]
     },
     "execution_count": 40,
     "metadata": {},
     "output_type": "execute_result"
    }
   ],
   "source": [
    "# Criando uma matriz preenchida\n",
    "matriz = np.array([[1,2,3],[4,5,6],[7,8,9]])\n",
    "matriz"
   ]
  },
  {
   "cell_type": "markdown",
   "metadata": {},
   "source": [
    "#### Criando matrizes preenchidas com zeros"
   ]
  },
  {
   "cell_type": "code",
   "execution_count": 42,
   "metadata": {},
   "outputs": [
    {
     "data": {
      "text/plain": [
       "array([[0., 0., 0.],\n",
       "       [0., 0., 0.],\n",
       "       [0., 0., 0.]])"
      ]
     },
     "execution_count": 42,
     "metadata": {},
     "output_type": "execute_result"
    }
   ],
   "source": [
    "# Criando uma matriz preenchida com zeros\n",
    "matriz_zeros = np.zeros((3,3))\n",
    "matriz_zeros"
   ]
  },
  {
   "cell_type": "markdown",
   "metadata": {},
   "source": [
    "#### Criando matrizes preenchidas com uns"
   ]
  },
  {
   "cell_type": "code",
   "execution_count": 43,
   "metadata": {},
   "outputs": [
    {
     "data": {
      "text/plain": [
       "array([[1., 1., 1., 1., 1., 1., 1., 1., 1., 1.],\n",
       "       [1., 1., 1., 1., 1., 1., 1., 1., 1., 1.],\n",
       "       [1., 1., 1., 1., 1., 1., 1., 1., 1., 1.],\n",
       "       [1., 1., 1., 1., 1., 1., 1., 1., 1., 1.],\n",
       "       [1., 1., 1., 1., 1., 1., 1., 1., 1., 1.],\n",
       "       [1., 1., 1., 1., 1., 1., 1., 1., 1., 1.],\n",
       "       [1., 1., 1., 1., 1., 1., 1., 1., 1., 1.],\n",
       "       [1., 1., 1., 1., 1., 1., 1., 1., 1., 1.],\n",
       "       [1., 1., 1., 1., 1., 1., 1., 1., 1., 1.],\n",
       "       [1., 1., 1., 1., 1., 1., 1., 1., 1., 1.]])"
      ]
     },
     "execution_count": 43,
     "metadata": {},
     "output_type": "execute_result"
    }
   ],
   "source": [
    "# Criando uma matriz preenchida com uns\n",
    "matriz_uns = np.ones((10,10))\n",
    "matriz_uns"
   ]
  },
  {
   "cell_type": "markdown",
   "metadata": {},
   "source": [
    "### Exibindo elementos de uma matriz"
   ]
  },
  {
   "cell_type": "markdown",
   "metadata": {},
   "source": [
    "#### Exibindo um elemento por índice"
   ]
  },
  {
   "cell_type": "code",
   "execution_count": 48,
   "metadata": {},
   "outputs": [
    {
     "name": "stdout",
     "output_type": "stream",
     "text": [
      "Elemento 1,0 (linha x coluna) da matriz: 4\n",
      "Elemento 1,1 (linha x coluna) da matriz: 5\n",
      "Elemento 1,2 (linha x coluna) da matriz: 6\n"
     ]
    }
   ],
   "source": [
    "# Exibindo elementos de uma matriz\n",
    "# Vale lembrar que os índices começam em zero (0)\n",
    "matriz = np.array([[1,2,3],[4,5,6],[7,8,9]])\n",
    "print(\"Elemento 1,0 (linha x coluna) da matriz:\", matriz[1][0])\n",
    "print(\"Elemento 1,1 (linha x coluna) da matriz:\", matriz[1][1])\n",
    "print(\"Elemento 1,2 (linha x coluna) da matriz:\", matriz[1][2])"
   ]
  },
  {
   "cell_type": "markdown",
   "metadata": {},
   "source": [
    "#### Exibindo elementos de uma coluna específica"
   ]
  },
  {
   "cell_type": "code",
   "execution_count": 51,
   "metadata": {},
   "outputs": [
    {
     "name": "stdout",
     "output_type": "stream",
     "text": [
      "Elementos da primeira coluna da matriz [1 4 7]\n",
      "Elementos da segunda coluna da matriz [2 5 8]\n",
      "Elementos da terceira coluna da matriz [3 6 9]\n"
     ]
    }
   ],
   "source": [
    "print(\"Elementos da primeira coluna da matriz\", matriz[:,0])\n",
    "print(\"Elementos da segunda coluna da matriz\", matriz[:,1])\n",
    "print(\"Elementos da terceira coluna da matriz\", matriz[:,2])"
   ]
  },
  {
   "cell_type": "markdown",
   "metadata": {},
   "source": [
    "#### Exibindo elementos de uma linha específica"
   ]
  },
  {
   "cell_type": "code",
   "execution_count": 72,
   "metadata": {},
   "outputs": [
    {
     "name": "stdout",
     "output_type": "stream",
     "text": [
      "Elementos da primeira linha da matriz [1 2 3]\n",
      "Elementos da segunda linha da matriz [4 5 6]\n",
      "Elementos da terceira linha da matriz [7 8 9]\n"
     ]
    }
   ],
   "source": [
    "print(\"Elementos da primeira linha da matriz\", matriz[0,:])\n",
    "print(\"Elementos da segunda linha da matriz\", matriz[1,:])\n",
    "print(\"Elementos da terceira linha da matriz\", matriz[2,:])"
   ]
  },
  {
   "cell_type": "markdown",
   "metadata": {},
   "source": [
    "### Exibindo a dimensão de uma matriz"
   ]
  },
  {
   "cell_type": "code",
   "execution_count": 106,
   "metadata": {},
   "outputs": [
    {
     "name": "stdout",
     "output_type": "stream",
     "text": [
      "A dimensão da matriz é: (3, 3) linhas e colunas.\n"
     ]
    }
   ],
   "source": [
    "# Exibindo o tamanho da matriz (linhas x colunas)\n",
    "print(\"A dimensão da matriz é:\", matriz.shape, \"linhas e colunas.\")"
   ]
  },
  {
   "cell_type": "code",
   "execution_count": 117,
   "metadata": {},
   "outputs": [
    {
     "name": "stdout",
     "output_type": "stream",
     "text": [
      "Matriz 2D: 2\n",
      "Matriz 3D: 3\n"
     ]
    }
   ],
   "source": [
    "# Exibindo a dimensão da matriz 2D\n",
    "print(\"Matriz 2D:\", matriz.ndim) # dimensão x, y\n",
    "\n",
    "# Exibindo a dimensão da matriz 3D\n",
    "matriz_3D = np.array([[[ 0,  1,  2],[ 3,  4,  5],[ 6,  7,  8]],[[ 9, 10, 11],[12, 13, 14],[15, 16, 17]],[[18, 19, 20],[21, 22, 23],[24, 25, 26]]])\n",
    "print(\"Matriz 3D:\", matriz_3D.ndim) # dimensão x, y e z"
   ]
  },
  {
   "cell_type": "code",
   "execution_count": 118,
   "metadata": {},
   "outputs": [
    {
     "name": "stdout",
     "output_type": "stream",
     "text": [
      "4\n"
     ]
    }
   ],
   "source": [
    "# Exibe o número de linhas da matriz\n",
    "print(len(mat))"
   ]
  },
  {
   "cell_type": "markdown",
   "metadata": {},
   "source": [
    "## Cálculos com matrizes"
   ]
  },
  {
   "cell_type": "code",
   "execution_count": 85,
   "metadata": {},
   "outputs": [
    {
     "name": "stdout",
     "output_type": "stream",
     "text": [
      "Matriz A:\n",
      " [[1. 1. 1.]\n",
      " [1. 1. 1.]\n",
      " [1. 1. 1.]]\n",
      "Matriz B:\n",
      " [[0. 0. 0.]\n",
      " [0. 0. 0.]\n",
      " [0. 0. 0.]]\n"
     ]
    }
   ],
   "source": [
    "# Definindo nossas matrizes para cálculos\n",
    "A = np.ones((3,3))\n",
    "B = np.zeros((3,3))\n",
    "n = -1 # Escalar\n",
    "\n",
    "print(\"Matriz A:\\n\", A)\n",
    "print(\"Matriz B:\\n\", B)"
   ]
  },
  {
   "cell_type": "markdown",
   "metadata": {},
   "source": [
    "### Soma entre matrizes"
   ]
  },
  {
   "cell_type": "code",
   "execution_count": 81,
   "metadata": {},
   "outputs": [
    {
     "name": "stdout",
     "output_type": "stream",
     "text": [
      "Soma das Matrizes A + B: \n",
      " [[1. 1. 1.]\n",
      " [1. 1. 1.]\n",
      " [1. 1. 1.]]\n"
     ]
    }
   ],
   "source": [
    "soma_matrizes = A + B\n",
    "print(\"Soma das Matrizes A + B: \\n\", soma_matrizes)"
   ]
  },
  {
   "cell_type": "markdown",
   "metadata": {},
   "source": [
    "### Subtração entre matrizes"
   ]
  },
  {
   "cell_type": "code",
   "execution_count": 82,
   "metadata": {},
   "outputs": [
    {
     "name": "stdout",
     "output_type": "stream",
     "text": [
      "Subtração das Matrizes A - B: \n",
      " [[1. 1. 1.]\n",
      " [1. 1. 1.]\n",
      " [1. 1. 1.]]\n",
      "Subtração das Matrizes B - A: \n",
      " [[-1. -1. -1.]\n",
      " [-1. -1. -1.]\n",
      " [-1. -1. -1.]]\n"
     ]
    }
   ],
   "source": [
    "subtracao_matrizes_ab = A - B\n",
    "subtracao_matrizes_ba = B - A\n",
    "\n",
    "print(\"Subtração das Matrizes A - B: \\n\", subtracao_matrizes_ab)\n",
    "print(\"Subtração das Matrizes B - A: \\n\", subtracao_matrizes_ba)"
   ]
  },
  {
   "cell_type": "markdown",
   "metadata": {},
   "source": [
    "### Multiplicação entre elementos das Matrizes"
   ]
  },
  {
   "cell_type": "code",
   "execution_count": 89,
   "metadata": {},
   "outputs": [
    {
     "name": "stdout",
     "output_type": "stream",
     "text": [
      "Multiplicação entre A x B:\n",
      " [[0. 0. 0.]\n",
      " [0. 0. 0.]\n",
      " [0. 0. 0.]]\n"
     ]
    }
   ],
   "source": [
    "print(\"Multiplicação entre A x B:\\n\", A * B)"
   ]
  },
  {
   "cell_type": "markdown",
   "metadata": {},
   "source": [
    "#### Multiplicação por um escalar"
   ]
  },
  {
   "cell_type": "code",
   "execution_count": 91,
   "metadata": {},
   "outputs": [
    {
     "name": "stdout",
     "output_type": "stream",
     "text": [
      "Matriz A:\n",
      " [[1. 1. 1.]\n",
      " [1. 1. 1.]\n",
      " [1. 1. 1.]]\n",
      "Matriz (-1) * A:\n",
      " [[-1. -1. -1.]\n",
      " [-1. -1. -1.]\n",
      " [-1. -1. -1.]]\n"
     ]
    }
   ],
   "source": [
    "print(\"Matriz A:\\n\", A)\n",
    "print(\"Matriz (-1) * A:\\n\", -1 * A)"
   ]
  },
  {
   "cell_type": "markdown",
   "metadata": {},
   "source": [
    "### Multiplicação Matricial"
   ]
  },
  {
   "cell_type": "code",
   "execution_count": 92,
   "metadata": {},
   "outputs": [
    {
     "name": "stdout",
     "output_type": "stream",
     "text": [
      "Multiplicação Matricial C x D: \n",
      " [[24 24 24]\n",
      " [60 60 60]\n",
      " [96 96 96]]\n"
     ]
    }
   ],
   "source": [
    "C = np.array([[2,4,6], [8,10,12], [14,16,18]])\n",
    "D = np.array([[2,2,2],[2,2,2],[2,2,2]])\n",
    "\n",
    "print(\"Multiplicação Matricial C x D: \\n\", C.dot(D))"
   ]
  },
  {
   "cell_type": "code",
   "execution_count": 64,
   "metadata": {},
   "outputs": [
    {
     "name": "stdout",
     "output_type": "stream",
     "text": [
      "Divisão entre as matrizes C / D:\n",
      " [[1. 2. 3.]\n",
      " [4. 5. 6.]\n",
      " [7. 8. 9.]]\n"
     ]
    }
   ],
   "source": [
    "### Divisão entre Matrizes\n",
    "C = np.array([[2,4,6], [8,10,12], [14,16,18]])\n",
    "D = np.array([[2,2,2],[2,2,2],[2,2,2]])\n",
    "\n",
    "print(\"Divisão entre as matrizes C / D:\\n\", C / D)"
   ]
  },
  {
   "cell_type": "markdown",
   "metadata": {},
   "source": [
    "### Matriz Transposta"
   ]
  },
  {
   "cell_type": "code",
   "execution_count": 67,
   "metadata": {},
   "outputs": [
    {
     "name": "stdout",
     "output_type": "stream",
     "text": [
      "Matriz A:\n",
      " [[1 4 7]\n",
      " [2 5 8]\n",
      " [3 6 9]]\n",
      "Matriz At(transposta):\n",
      " [[1 2 3]\n",
      " [4 5 6]\n",
      " [7 8 9]]\n"
     ]
    }
   ],
   "source": [
    "# Definindo a matriz\n",
    "A = np.array([[1,4,7],[2,5,8],[3,6,9]])\n",
    "print(\"Matriz A:\\n\", A)\n",
    "\n",
    "#Mostrando a sua transposta\n",
    "print(\"Matriz At(transposta):\\n\", A.T)"
   ]
  },
  {
   "cell_type": "markdown",
   "metadata": {},
   "source": [
    "### Apagando elementos de um array"
   ]
  },
  {
   "cell_type": "code",
   "execution_count": 96,
   "metadata": {},
   "outputs": [
    {
     "name": "stdout",
     "output_type": "stream",
     "text": [
      "Apagando elementos do array:\n",
      " [[ 1  3  4  5]\n",
      " [ 6  8  9 10]\n",
      " [11 13 14 15]]\n"
     ]
    }
   ],
   "source": [
    "E = np.array([[1,2,3,4,5], [6,7,8,9,10], [11,12,13,14,15]])\n",
    "\n",
    "# Parâmetros do np.delete(array, linha, eixo)\n",
    "\n",
    "print(\"Apagando elementos do array:\\n\", np.delete(E, 1, 1)) # removendo a segunda coluna"
   ]
  },
  {
   "cell_type": "code",
   "execution_count": 97,
   "metadata": {},
   "outputs": [
    {
     "name": "stdout",
     "output_type": "stream",
     "text": [
      "Apagando elementos do array:\n",
      " [[ 1  2  3  4  5]\n",
      " [ 6  7  8  9 10]]\n"
     ]
    }
   ],
   "source": [
    "E = np.array([[1,2,3,4,5], [6,7,8,9,10], [11,12,13,14,15]])\n",
    "\n",
    "# Apagando a última linha\n",
    "print(\"Apagando elementos do array:\\n\", np.delete(E, 2, 0)) # removendo a segunda coluna"
   ]
  },
  {
   "cell_type": "code",
   "execution_count": 105,
   "metadata": {},
   "outputs": [
    {
     "name": "stdout",
     "output_type": "stream",
     "text": [
      "Apagando elementos do array:\n",
      " [[ 4  5]\n",
      " [ 9 10]\n",
      " [14 15]]\n"
     ]
    }
   ],
   "source": [
    "E = np.array([[1,2,3,4,5], [6,7,8,9,10], [11,12,13,14,15]])\n",
    "\n",
    "#apagando as colunas 0, 1 e 2\n",
    "print(\"Apagando elementos do array:\\n\", np.delete(E, [0,1,2], 1)) # removendo a segunda coluna"
   ]
  },
  {
   "cell_type": "markdown",
   "metadata": {},
   "source": [
    "### Copiando Arrays"
   ]
  },
  {
   "cell_type": "code",
   "execution_count": 85,
   "metadata": {},
   "outputs": [
    {
     "name": "stdout",
     "output_type": "stream",
     "text": [
      "Copiando os dois primeiros elementos do vetor: [0 1]\n",
      "Copiando a partir dos dois últimos elementos do vetor: [0 1 2 3 4 5 6 7]\n",
      "Copiando os elementos pares do vetor (passos a cada 2 elementos): [0 2 4 6 8]\n",
      "Copiando os elementos do vetor (passos a cada 3 elementos a partir do 1): [1 4 7]\n",
      "Copiando os elementos do vetor entre um (incluso) e três(não incluso): [1 2]\n"
     ]
    }
   ],
   "source": [
    "# Definindo um vetor para as operações\n",
    "V1 = np.arange(10)\n",
    "\n",
    "print(\"Copiando os dois primeiros elementos do vetor:\", V1[:2].copy())\n",
    "print(\"Copiando a partir dos dois últimos elementos do vetor:\", V1[:-2].copy())\n",
    "print(\"Copiando os elementos pares do vetor (passos a cada 2 elementos):\", V1[::2].copy())\n",
    "print(\"Copiando os elementos do vetor (passos a cada 3 elementos a partir do 1):\", V1[1::3].copy())\n",
    "print(\"Copiando os elementos do vetor entre um (incluso) e três(não incluso):\", V1[1:3].copy())"
   ]
  },
  {
   "cell_type": "markdown",
   "metadata": {},
   "source": [
    "### Dica: Usando arrays em gráficos"
   ]
  },
  {
   "cell_type": "code",
   "execution_count": 3,
   "metadata": {},
   "outputs": [],
   "source": [
    "#Carregando a biblioteca\n",
    "import matplotlib.pyplot as plt"
   ]
  },
  {
   "cell_type": "markdown",
   "metadata": {},
   "source": [
    "#### Exemplo 01"
   ]
  },
  {
   "cell_type": "code",
   "execution_count": 106,
   "metadata": {},
   "outputs": [],
   "source": [
    "# Definindo os arrays...\n",
    "eixo_x_e1 = np.array([0,1,2,3,4,5,6,7,8,9,10,11,12])\n",
    "eixo_y_e1 = np.array([0,1,4,9,16,25,36,49,64,81,100,121,144])"
   ]
  },
  {
   "cell_type": "code",
   "execution_count": 107,
   "metadata": {},
   "outputs": [
    {
     "data": {
      "image/png": "[encoded data removed]",
      "text/plain": [
       "<Figure size 432x288 with 1 Axes>"
      ]
     },
     "metadata": {
      "needs_background": "light"
     },
     "output_type": "display_data"
    }
   ],
   "source": [
    "# Plotando o gráfico\n",
    "plt.plot(eixo_x_e1, eixo_y_e1)\n",
    "plt.plot(eixo_x_e1, eixo_y_e1, 'bo')\n",
    "plt.show()"
   ]
  },
  {
   "cell_type": "markdown",
   "metadata": {},
   "source": [
    "#### Exemplo 02"
   ]
  },
  {
   "cell_type": "code",
   "execution_count": 116,
   "metadata": {},
   "outputs": [
    {
     "data": {
      "image/png": "[encoded data removed]",
      "text/plain": [
       "<Figure size 432x288 with 1 Axes>"
      ]
     },
     "metadata": {
      "needs_background": "light"
     },
     "output_type": "display_data"
    }
   ],
   "source": [
    "eixo_x_e2 = np.arange(0,100)\n",
    "eixo_y_e2 = np.arange(0,100)\n",
    "\n",
    "# Plotando o gráfico\n",
    "plt.plot(eixo_x_e2, eixo_y_e2)\n",
    "plt.plot(eixo_x_e2, eixo_y_e2, linewidth=2, markersize=12, color='red', linestyle='dashed')\n",
    "plt.show()"
   ]
  },
  {
   "cell_type": "markdown",
   "metadata": {},
   "source": [
    "#### Exemplo 03"
   ]
  },
  {
   "cell_type": "code",
   "execution_count": 5,
   "metadata": {},
   "outputs": [
    {
     "data": {
      "image/png": "[encoded data removed]",
      "text/plain": [
       "<Figure size 432x288 with 2 Axes>"
      ]
     },
     "metadata": {
      "needs_background": "light"
     },
     "output_type": "display_data"
    }
   ],
   "source": [
    "matriz_densidade = np.random.rand(100, 100)\n",
    "plt.imshow(matriz_densidade, cmap=plt.cm.jet, aspect='auto', interpolation='gaussian')    \n",
    "plt.colorbar()    \n",
    "plt.show()"
   ]
  }
 ],
 "metadata": {
  "kernelspec": {
   "display_name": "Python 3",
   "language": "python",
   "name": "python3"
  },
  "language_info": {
   "codemirror_mode": {
    "name": "ipython",
    "version": 3
   },
   "file_extension": ".py",
   "mimetype": "text/x-python",
   "name": "python",
   "nbconvert_exporter": "python",
   "pygments_lexer": "ipython3",
   "version": "3.7.2"
  }
 },
 "nbformat": 4,
 "nbformat_minor": 2
}
